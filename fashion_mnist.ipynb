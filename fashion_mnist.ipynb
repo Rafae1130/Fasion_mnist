{
  "nbformat": 4,
  "nbformat_minor": 0,
  "metadata": {
    "colab": {
      "name": "fashion_mnist.ipynb",
      "provenance": [],
      "authorship_tag": "ABX9TyOpCOmz2sC5/j1kHh877t8u",
      "include_colab_link": true
    },
    "kernelspec": {
      "name": "python3",
      "display_name": "Python 3"
    },
    "language_info": {
      "name": "python"
    },
    "accelerator": "GPU"
  },
  "cells": [
    {
      "cell_type": "markdown",
      "metadata": {
        "id": "view-in-github",
        "colab_type": "text"
      },
      "source": [
        "<a href=\"https://colab.research.google.com/github/Rafae1130/Fasion_mnist/blob/main/fashion_mnist.ipynb\" target=\"_parent\"><img src=\"https://colab.research.google.com/assets/colab-badge.svg\" alt=\"Open In Colab\"/></a>"
      ]
    },
    {
      "cell_type": "code",
      "source": [
        "import tensorflow as tf\n",
        "from tensorflow.keras.models import Model\n",
        "from tensorflow.keras.layers import Dense, Input, Conv2D, Flatten\n",
        "import numpy as np\n",
        "import pandas as pd\n",
        "import matplotlib.pyplot as plt"
      ],
      "metadata": {
        "id": "gNiRt4LPkVMz"
      },
      "execution_count": 1,
      "outputs": []
    },
    {
      "cell_type": "code",
      "source": [
        "fashion= tf.keras.datasets.fashion_mnist"
      ],
      "metadata": {
        "id": "Jd0c3sd1l0mE"
      },
      "execution_count": 2,
      "outputs": []
    },
    {
      "cell_type": "code",
      "source": [
        "(X_train, Y_train), (x_test, y_test)= fashion.load_data()"
      ],
      "metadata": {
        "colab": {
          "base_uri": "https://localhost:8080/"
        },
        "id": "bLFf-C29l7aO",
        "outputId": "30d17995-b899-45ae-e395-f419f1819635"
      },
      "execution_count": 3,
      "outputs": [
        {
          "output_type": "stream",
          "name": "stdout",
          "text": [
            "Downloading data from https://storage.googleapis.com/tensorflow/tf-keras-datasets/train-labels-idx1-ubyte.gz\n",
            "32768/29515 [=================================] - 0s 0us/step\n",
            "40960/29515 [=========================================] - 0s 0us/step\n",
            "Downloading data from https://storage.googleapis.com/tensorflow/tf-keras-datasets/train-images-idx3-ubyte.gz\n",
            "26427392/26421880 [==============================] - 0s 0us/step\n",
            "26435584/26421880 [==============================] - 0s 0us/step\n",
            "Downloading data from https://storage.googleapis.com/tensorflow/tf-keras-datasets/t10k-labels-idx1-ubyte.gz\n",
            "16384/5148 [===============================================================================================] - 0s 0us/step\n",
            "Downloading data from https://storage.googleapis.com/tensorflow/tf-keras-datasets/t10k-images-idx3-ubyte.gz\n",
            "4423680/4422102 [==============================] - 0s 0us/step\n",
            "4431872/4422102 [==============================] - 0s 0us/step\n"
          ]
        }
      ]
    },
    {
      "cell_type": "code",
      "source": [
        "np.shape(X_train)"
      ],
      "metadata": {
        "colab": {
          "base_uri": "https://localhost:8080/"
        },
        "id": "q-835l1SnBCy",
        "outputId": "d1da172f-36d4-41fc-e68a-7cbba6350933"
      },
      "execution_count": 4,
      "outputs": [
        {
          "output_type": "execute_result",
          "data": {
            "text/plain": [
              "(60000, 28, 28)"
            ]
          },
          "metadata": {},
          "execution_count": 4
        }
      ]
    },
    {
      "cell_type": "code",
      "source": [
        "X_train , x_test=X_train/255. , x_test/255."
      ],
      "metadata": {
        "id": "N_PrduCknF9C"
      },
      "execution_count": 5,
      "outputs": []
    },
    {
      "cell_type": "code",
      "source": [
        "X_train= np.expand_dims(X_train, axis=-1)"
      ],
      "metadata": {
        "id": "hbq67x2KnQfs"
      },
      "execution_count": 6,
      "outputs": []
    },
    {
      "cell_type": "code",
      "source": [
        "np.shape(X_train)"
      ],
      "metadata": {
        "colab": {
          "base_uri": "https://localhost:8080/"
        },
        "id": "1Bre9bOFnyYA",
        "outputId": "e0941189-a9d8-4904-a31e-380f4edb19b4"
      },
      "execution_count": 7,
      "outputs": [
        {
          "output_type": "execute_result",
          "data": {
            "text/plain": [
              "(60000, 28, 28, 1)"
            ]
          },
          "metadata": {},
          "execution_count": 7
        }
      ]
    },
    {
      "cell_type": "code",
      "source": [
        "x_test=np.expand_dims(x_test, axis=-1)"
      ],
      "metadata": {
        "id": "YAt69cuon0dl"
      },
      "execution_count": 8,
      "outputs": []
    },
    {
      "cell_type": "code",
      "source": [
        "np.shape(x_test)"
      ],
      "metadata": {
        "colab": {
          "base_uri": "https://localhost:8080/"
        },
        "id": "QZfA7E94oSRn",
        "outputId": "be26374d-bd92-4a02-ba55-73f012956e59"
      },
      "execution_count": 9,
      "outputs": [
        {
          "output_type": "execute_result",
          "data": {
            "text/plain": [
              "(10000, 28, 28, 1)"
            ]
          },
          "metadata": {},
          "execution_count": 9
        }
      ]
    },
    {
      "cell_type": "code",
      "source": [
        "K=len(np.unique(Y_train))"
      ],
      "metadata": {
        "id": "bjJ_8d2QoUtD"
      },
      "execution_count": 10,
      "outputs": []
    },
    {
      "cell_type": "code",
      "source": [
        "i=Input(shape=X_train[0].shape)\n",
        "x=Conv2D(32,  (3,3),  strides=2, activation='relu')(i)\n",
        "x=Conv2D(64,  (3,3),  strides=2, activation='relu')(x)\n",
        "x=Conv2D(128, (3,3),  strides=2, activation='relu')(x)\n",
        "x=Flatten()(x)\n",
        "x=Dense(512, activation='relu')(x)\n",
        "x=Dense(K, activation='softmax')(x)\n",
        "\n",
        "model=Model(i,x)\n",
        "\n"
      ],
      "metadata": {
        "id": "QXiY-QXnobpD"
      },
      "execution_count": 11,
      "outputs": []
    },
    {
      "cell_type": "code",
      "source": [
        "model.compile(optimizer=tf.keras.optimizers.Adam(learning_rate=0.0001), loss='sparse_categorical_crossentropy', metrics=['accuracy'])"
      ],
      "metadata": {
        "id": "LA8avxDhrLd4"
      },
      "execution_count": 16,
      "outputs": []
    },
    {
      "cell_type": "code",
      "source": [
        "r=model.fit(X_train, Y_train, batch_size=1, epochs=15, validation_data=(x_test,y_test))"
      ],
      "metadata": {
        "colab": {
          "base_uri": "https://localhost:8080/"
        },
        "id": "zKRXydgprVN2",
        "outputId": "8efb2dd4-74c6-41b4-e03d-4c626d0f730c"
      },
      "execution_count": 17,
      "outputs": [
        {
          "output_type": "stream",
          "name": "stdout",
          "text": [
            "Epoch 1/15\n",
            "60000/60000 [==============================] - 254s 4ms/step - loss: 0.3297 - accuracy: 0.8757 - val_loss: 0.3721 - val_accuracy: 0.8721\n",
            "Epoch 2/15\n",
            "60000/60000 [==============================] - 254s 4ms/step - loss: 0.2954 - accuracy: 0.8887 - val_loss: 0.3723 - val_accuracy: 0.8745\n",
            "Epoch 3/15\n",
            "60000/60000 [==============================] - 254s 4ms/step - loss: 0.2778 - accuracy: 0.8956 - val_loss: 0.3668 - val_accuracy: 0.8823\n",
            "Epoch 4/15\n",
            "60000/60000 [==============================] - 252s 4ms/step - loss: 0.2647 - accuracy: 0.9012 - val_loss: 0.3708 - val_accuracy: 0.8827\n",
            "Epoch 5/15\n",
            "60000/60000 [==============================] - 275s 5ms/step - loss: 0.2533 - accuracy: 0.9048 - val_loss: 0.3818 - val_accuracy: 0.8812\n",
            "Epoch 6/15\n",
            "60000/60000 [==============================] - 252s 4ms/step - loss: 0.2442 - accuracy: 0.9099 - val_loss: 0.3933 - val_accuracy: 0.8830\n",
            "Epoch 7/15\n",
            "60000/60000 [==============================] - 272s 5ms/step - loss: 0.2345 - accuracy: 0.9126 - val_loss: 0.3873 - val_accuracy: 0.8760\n",
            "Epoch 8/15\n",
            "60000/60000 [==============================] - 273s 5ms/step - loss: 0.2264 - accuracy: 0.9164 - val_loss: 0.4103 - val_accuracy: 0.8867\n",
            "Epoch 9/15\n",
            "60000/60000 [==============================] - 256s 4ms/step - loss: 0.2194 - accuracy: 0.9188 - val_loss: 0.4118 - val_accuracy: 0.8839\n",
            "Epoch 10/15\n",
            "60000/60000 [==============================] - 256s 4ms/step - loss: 0.2126 - accuracy: 0.9207 - val_loss: 0.4133 - val_accuracy: 0.8876\n",
            "Epoch 11/15\n",
            "60000/60000 [==============================] - 255s 4ms/step - loss: 0.2059 - accuracy: 0.9237 - val_loss: 0.4289 - val_accuracy: 0.8875\n",
            "Epoch 12/15\n",
            "60000/60000 [==============================] - 290s 5ms/step - loss: 0.1996 - accuracy: 0.9258 - val_loss: 0.5520 - val_accuracy: 0.8867\n",
            "Epoch 13/15\n",
            "60000/60000 [==============================] - 292s 5ms/step - loss: 0.1938 - accuracy: 0.9292 - val_loss: 0.4222 - val_accuracy: 0.8852\n",
            "Epoch 14/15\n",
            "60000/60000 [==============================] - 291s 5ms/step - loss: 0.1889 - accuracy: 0.9315 - val_loss: 0.4694 - val_accuracy: 0.8850\n",
            "Epoch 15/15\n",
            "60000/60000 [==============================] - 267s 4ms/step - loss: 0.1826 - accuracy: 0.9329 - val_loss: 0.4994 - val_accuracy: 0.8859\n"
          ]
        }
      ]
    },
    {
      "cell_type": "code",
      "source": [
        "plt.plot(r.history['loss'], label='loss')\n",
        "plt.plot(r.history['val_loss'], label='val_loss')\n",
        "\n",
        "plt.legend()"
      ],
      "metadata": {
        "colab": {
          "base_uri": "https://localhost:8080/",
          "height": 282
        },
        "id": "7IZApxOCsV3L",
        "outputId": "83015eab-1bec-42bf-ff26-1712dd96b9d0"
      },
      "execution_count": 18,
      "outputs": [
        {
          "output_type": "execute_result",
          "data": {
            "text/plain": [
              "<matplotlib.legend.Legend at 0x7f0d9f1fdf50>"
            ]
          },
          "metadata": {},
          "execution_count": 18
        },
        {
          "output_type": "display_data",
          "data": {
            "text/plain": [
              "<Figure size 432x288 with 1 Axes>"
            ],
            "image/png": "[encoded data removed]"
          },
          "metadata": {
            "needs_background": "light"
          }
        }
      ]
    },
    {
      "cell_type": "code",
      "source": [
        "plt.plot(r.history['accuracy'], label='accuracy')\n",
        "plt.plot(r.history['val_accuracy'], label='val_accuracy')\n",
        "\n",
        "plt.legend()"
      ],
      "metadata": {
        "colab": {
          "base_uri": "https://localhost:8080/",
          "height": 282
        },
        "id": "6YzeZzwYvc6Q",
        "outputId": "3aeb5cca-6d49-4ebe-f489-45e53040f4b6"
      },
      "execution_count": 19,
      "outputs": [
        {
          "output_type": "execute_result",
          "data": {
            "text/plain": [
              "<matplotlib.legend.Legend at 0x7f0d9ed02590>"
            ]
          },
          "metadata": {},
          "execution_count": 19
        },
        {
          "output_type": "display_data",
          "data": {
            "text/plain": [
              "<Figure size 432x288 with 1 Axes>"
            ],
            "image/png": "[encoded data removed]"
          },
          "metadata": {
            "needs_background": "light"
          }
        }
      ]
    },
    {
      "cell_type": "code",
      "source": [
        "model.evaluate(x_test, y_test, batch_size=1)"
      ],
      "metadata": {
        "colab": {
          "base_uri": "https://localhost:8080/"
        },
        "id": "VU516dcwvvvS",
        "outputId": "374737ae-8568-4592-bd28-b500dfc47a60"
      },
      "execution_count": 20,
      "outputs": [
        {
          "output_type": "stream",
          "name": "stdout",
          "text": [
            "10000/10000 [==============================] - 30s 3ms/step - loss: 0.4994 - accuracy: 0.8859\n"
          ]
        },
        {
          "output_type": "execute_result",
          "data": {
            "text/plain": [
              "[0.4993637800216675, 0.8859000205993652]"
            ]
          },
          "metadata": {},
          "execution_count": 20
        }
      ]
    },
    {
      "cell_type": "code",
      "source": [
        ""
      ],
      "metadata": {
        "id": "S_lPQmRj253Q"
      },
      "execution_count": null,
      "outputs": []
    }
  ]
}